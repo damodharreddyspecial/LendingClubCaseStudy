{
 "cells": [
  {
   "cell_type": "code",
   "execution_count": 4,
   "id": "26cf05a7",
   "metadata": {},
   "outputs": [],
   "source": [
    "# import Pandas\n",
    "import numpy as np\n",
    "import pandas as pd\n",
    "\n"
   ]
  },
  {
   "cell_type": "code",
   "execution_count": 5,
   "id": "68e02214",
   "metadata": {},
   "outputs": [],
   "source": [
    "# read loan.csv file with data type 'unicode'\n",
    "df = pd.read_csv(\"loan.csv\",dtype='unicode')"
   ]
  },
  {
   "cell_type": "code",
   "execution_count": 6,
   "id": "c2f37398",
   "metadata": {},
   "outputs": [],
   "source": [
    "# remove employee charactersitic columns\n",
    "df=df[['loan_amnt','term','int_rate','grade','sub_grade','annual_inc','purpose','dti','emp_length','issue_d','home_ownership','verification_status','loan_status']]"
   ]
  },
  {
   "cell_type": "code",
   "execution_count": 7,
   "id": "65bc392f",
   "metadata": {},
   "outputs": [],
   "source": [
    "# remove Current value in loan_status column as loan is neither approved nor rejected with loan status Current\n",
    "options = ['Fully Paid', 'Charged Off']\n",
    "df = df[df[\"loan_status\"].isin(options)]"
   ]
  },
  {
   "cell_type": "code",
   "execution_count": 8,
   "id": "e4e1fa83",
   "metadata": {},
   "outputs": [],
   "source": [
    "df['term'] = df['term'].str[1:3]"
   ]
  },
  {
   "cell_type": "code",
   "execution_count": 9,
   "id": "244ccb68",
   "metadata": {},
   "outputs": [
    {
     "name": "stderr",
     "output_type": "stream",
     "text": [
      "C:\\Users\\damod\\AppData\\Local\\Temp/ipykernel_26216/1185577632.py:1: FutureWarning: The default value of regex will change from True to False in a future version.\n",
      "  df['emp_length'] = df['emp_length'].str.replace(r'\\D', '')\n"
     ]
    }
   ],
   "source": [
    "df['emp_length'] = df['emp_length'].str.replace(r'\\D', '')"
   ]
  },
  {
   "cell_type": "code",
   "execution_count": 10,
   "id": "16882030",
   "metadata": {},
   "outputs": [
    {
     "data": {
      "text/html": [
       "<div>\n",
       "<style scoped>\n",
       "    .dataframe tbody tr th:only-of-type {\n",
       "        vertical-align: middle;\n",
       "    }\n",
       "\n",
       "    .dataframe tbody tr th {\n",
       "        vertical-align: top;\n",
       "    }\n",
       "\n",
       "    .dataframe thead th {\n",
       "        text-align: right;\n",
       "    }\n",
       "</style>\n",
       "<table border=\"1\" class=\"dataframe\">\n",
       "  <thead>\n",
       "    <tr style=\"text-align: right;\">\n",
       "      <th></th>\n",
       "      <th>loan_amnt</th>\n",
       "      <th>term</th>\n",
       "      <th>int_rate</th>\n",
       "      <th>grade</th>\n",
       "      <th>sub_grade</th>\n",
       "      <th>annual_inc</th>\n",
       "      <th>purpose</th>\n",
       "      <th>dti</th>\n",
       "      <th>emp_length</th>\n",
       "      <th>issue_d</th>\n",
       "      <th>home_ownership</th>\n",
       "      <th>verification_status</th>\n",
       "      <th>loan_status</th>\n",
       "    </tr>\n",
       "  </thead>\n",
       "  <tbody>\n",
       "    <tr>\n",
       "      <th>0</th>\n",
       "      <td>5000</td>\n",
       "      <td>36</td>\n",
       "      <td>10.65%</td>\n",
       "      <td>B</td>\n",
       "      <td>B2</td>\n",
       "      <td>24000</td>\n",
       "      <td>credit_card</td>\n",
       "      <td>27.65</td>\n",
       "      <td>10</td>\n",
       "      <td>Dec-11</td>\n",
       "      <td>RENT</td>\n",
       "      <td>Verified</td>\n",
       "      <td>Fully Paid</td>\n",
       "    </tr>\n",
       "    <tr>\n",
       "      <th>1</th>\n",
       "      <td>2500</td>\n",
       "      <td>60</td>\n",
       "      <td>15.27%</td>\n",
       "      <td>C</td>\n",
       "      <td>C4</td>\n",
       "      <td>30000</td>\n",
       "      <td>car</td>\n",
       "      <td>1</td>\n",
       "      <td>1</td>\n",
       "      <td>Dec-11</td>\n",
       "      <td>RENT</td>\n",
       "      <td>Source Verified</td>\n",
       "      <td>Charged Off</td>\n",
       "    </tr>\n",
       "    <tr>\n",
       "      <th>2</th>\n",
       "      <td>2400</td>\n",
       "      <td>36</td>\n",
       "      <td>15.96%</td>\n",
       "      <td>C</td>\n",
       "      <td>C5</td>\n",
       "      <td>12252</td>\n",
       "      <td>small_business</td>\n",
       "      <td>8.72</td>\n",
       "      <td>10</td>\n",
       "      <td>Dec-11</td>\n",
       "      <td>RENT</td>\n",
       "      <td>Not Verified</td>\n",
       "      <td>Fully Paid</td>\n",
       "    </tr>\n",
       "    <tr>\n",
       "      <th>3</th>\n",
       "      <td>10000</td>\n",
       "      <td>36</td>\n",
       "      <td>13.49%</td>\n",
       "      <td>C</td>\n",
       "      <td>C1</td>\n",
       "      <td>49200</td>\n",
       "      <td>other</td>\n",
       "      <td>20</td>\n",
       "      <td>10</td>\n",
       "      <td>Dec-11</td>\n",
       "      <td>RENT</td>\n",
       "      <td>Source Verified</td>\n",
       "      <td>Fully Paid</td>\n",
       "    </tr>\n",
       "    <tr>\n",
       "      <th>5</th>\n",
       "      <td>5000</td>\n",
       "      <td>36</td>\n",
       "      <td>7.90%</td>\n",
       "      <td>A</td>\n",
       "      <td>A4</td>\n",
       "      <td>36000</td>\n",
       "      <td>wedding</td>\n",
       "      <td>11.2</td>\n",
       "      <td>3</td>\n",
       "      <td>Dec-11</td>\n",
       "      <td>RENT</td>\n",
       "      <td>Source Verified</td>\n",
       "      <td>Fully Paid</td>\n",
       "    </tr>\n",
       "  </tbody>\n",
       "</table>\n",
       "</div>"
      ],
      "text/plain": [
       "  loan_amnt term int_rate grade sub_grade annual_inc         purpose    dti  \\\n",
       "0      5000   36   10.65%     B        B2      24000     credit_card  27.65   \n",
       "1      2500   60   15.27%     C        C4      30000             car      1   \n",
       "2      2400   36   15.96%     C        C5      12252  small_business   8.72   \n",
       "3     10000   36   13.49%     C        C1      49200           other     20   \n",
       "5      5000   36    7.90%     A        A4      36000         wedding   11.2   \n",
       "\n",
       "  emp_length issue_d home_ownership verification_status  loan_status  \n",
       "0         10  Dec-11           RENT            Verified   Fully Paid  \n",
       "1          1  Dec-11           RENT     Source Verified  Charged Off  \n",
       "2         10  Dec-11           RENT        Not Verified   Fully Paid  \n",
       "3         10  Dec-11           RENT     Source Verified   Fully Paid  \n",
       "5          3  Dec-11           RENT     Source Verified   Fully Paid  "
      ]
     },
     "execution_count": 10,
     "metadata": {},
     "output_type": "execute_result"
    }
   ],
   "source": [
    "df.head()"
   ]
  },
  {
   "cell_type": "code",
   "execution_count": 11,
   "id": "2c727e10",
   "metadata": {},
   "outputs": [
    {
     "data": {
      "text/plain": [
       "array(['36', '60'], dtype=object)"
      ]
     },
     "execution_count": 11,
     "metadata": {},
     "output_type": "execute_result"
    }
   ],
   "source": [
    "df.term.unique()\n",
    "#df.boxplot(column=['loan_status','loan_amnt'])"
   ]
  },
  {
   "cell_type": "code",
   "execution_count": 12,
   "id": "132b6b8f",
   "metadata": {},
   "outputs": [],
   "source": [
    "# loan_amnt , loan_status relation\n",
    "df2 = df[['loan_amnt','loan_status']]"
   ]
  },
  {
   "cell_type": "code",
   "execution_count": 13,
   "id": "ef0d89ed",
   "metadata": {},
   "outputs": [
    {
     "name": "stderr",
     "output_type": "stream",
     "text": [
      "C:\\Users\\damod\\AppData\\Local\\Temp/ipykernel_26216/2643676140.py:1: SettingWithCopyWarning: \n",
      "A value is trying to be set on a copy of a slice from a DataFrame.\n",
      "Try using .loc[row_indexer,col_indexer] = value instead\n",
      "\n",
      "See the caveats in the documentation: https://pandas.pydata.org/pandas-docs/stable/user_guide/indexing.html#returning-a-view-versus-a-copy\n",
      "  df2['loan_amnt']=pd.to_numeric(df2['loan_amnt'],downcast=\"float\")\n"
     ]
    }
   ],
   "source": [
    "df2['loan_amnt']=pd.to_numeric(df2['loan_amnt'],downcast=\"float\")\n"
   ]
  },
  {
   "cell_type": "code",
   "execution_count": 14,
   "id": "ff75584d",
   "metadata": {},
   "outputs": [
    {
     "data": {
      "text/plain": [
       "<AxesSubplot:title={'center':'loan_amnt'}, xlabel='loan_status'>"
      ]
     },
     "execution_count": 14,
     "metadata": {},
     "output_type": "execute_result"
    },
    {
     "data": {
      "image/png": "[encoded data removed]",
      "text/plain": [
       "<Figure size 432x288 with 1 Axes>"
      ]
     },
     "metadata": {
      "needs_background": "light"
     },
     "output_type": "display_data"
    }
   ],
   "source": [
    "\n",
    "#df2['bins']=np.arange(0,df2['loan_amnt'].max())\n",
    "df2.boxplot(column='loan_amnt',by='loan_status')"
   ]
  },
  {
   "cell_type": "code",
   "execution_count": 15,
   "id": "6cef54b3",
   "metadata": {},
   "outputs": [],
   "source": [
    "# increase in loan amount increase chance of loan default"
   ]
  },
  {
   "cell_type": "code",
   "execution_count": 16,
   "id": "563c7d4e",
   "metadata": {},
   "outputs": [],
   "source": [
    "# remove % from int_rate column\n",
    "int_rate_new = df['int_rate'].str.split(\"%\",n=1,expand=True)"
   ]
  },
  {
   "cell_type": "code",
   "execution_count": 17,
   "id": "66e44964",
   "metadata": {},
   "outputs": [],
   "source": [
    "#assign first series to column after split\n",
    "df['int_rate']=int_rate_new[0]"
   ]
  },
  {
   "cell_type": "code",
   "execution_count": 18,
   "id": "e8841280",
   "metadata": {},
   "outputs": [],
   "source": [
    "# box plot int_rate , loan_status\n",
    "df3 = df[['int_rate','loan_status']]"
   ]
  },
  {
   "cell_type": "code",
   "execution_count": 19,
   "id": "fdadb83d",
   "metadata": {},
   "outputs": [
    {
     "name": "stderr",
     "output_type": "stream",
     "text": [
      "C:\\Users\\damod\\AppData\\Local\\Temp/ipykernel_26216/1651041008.py:2: SettingWithCopyWarning: \n",
      "A value is trying to be set on a copy of a slice from a DataFrame.\n",
      "Try using .loc[row_indexer,col_indexer] = value instead\n",
      "\n",
      "See the caveats in the documentation: https://pandas.pydata.org/pandas-docs/stable/user_guide/indexing.html#returning-a-view-versus-a-copy\n",
      "  df3['int_rate']=df3['int_rate'].astype('float')\n"
     ]
    },
    {
     "data": {
      "text/plain": [
       "<AxesSubplot:title={'center':'int_rate'}, xlabel='loan_status'>"
      ]
     },
     "execution_count": 19,
     "metadata": {},
     "output_type": "execute_result"
    },
    {
     "data": {
      "image/png": "[encoded data removed]",
      "text/plain": [
       "<Figure size 432x288 with 1 Axes>"
      ]
     },
     "metadata": {
      "needs_background": "light"
     },
     "output_type": "display_data"
    }
   ],
   "source": [
    "# convert int_rate to float type\n",
    "df3['int_rate']=df3['int_rate'].astype('float')\n",
    "df3.boxplot(column='int_rate',by='loan_status')"
   ]
  },
  {
   "cell_type": "code",
   "execution_count": 20,
   "id": "04e872fe",
   "metadata": {},
   "outputs": [],
   "source": [
    "# box plot shows increase in interest rate has more chances to customer default the loan"
   ]
  },
  {
   "cell_type": "code",
   "execution_count": 21,
   "id": "d096f98f",
   "metadata": {},
   "outputs": [],
   "source": [
    "# Analysis how term impact loan defualt"
   ]
  },
  {
   "cell_type": "code",
   "execution_count": 22,
   "id": "b6f3f811",
   "metadata": {},
   "outputs": [],
   "source": [
    "df4 = df[['term','loan_status']]"
   ]
  },
  {
   "cell_type": "code",
   "execution_count": 23,
   "id": "ffbff7c1",
   "metadata": {},
   "outputs": [
    {
     "data": {
      "text/html": [
       "<div>\n",
       "<style scoped>\n",
       "    .dataframe tbody tr th:only-of-type {\n",
       "        vertical-align: middle;\n",
       "    }\n",
       "\n",
       "    .dataframe tbody tr th {\n",
       "        vertical-align: top;\n",
       "    }\n",
       "\n",
       "    .dataframe thead th {\n",
       "        text-align: right;\n",
       "    }\n",
       "</style>\n",
       "<table border=\"1\" class=\"dataframe\">\n",
       "  <thead>\n",
       "    <tr style=\"text-align: right;\">\n",
       "      <th></th>\n",
       "      <th>term</th>\n",
       "      <th>loan_status</th>\n",
       "    </tr>\n",
       "  </thead>\n",
       "  <tbody>\n",
       "    <tr>\n",
       "      <th>0</th>\n",
       "      <td>36</td>\n",
       "      <td>Fully Paid</td>\n",
       "    </tr>\n",
       "    <tr>\n",
       "      <th>1</th>\n",
       "      <td>60</td>\n",
       "      <td>Charged Off</td>\n",
       "    </tr>\n",
       "    <tr>\n",
       "      <th>2</th>\n",
       "      <td>36</td>\n",
       "      <td>Fully Paid</td>\n",
       "    </tr>\n",
       "    <tr>\n",
       "      <th>3</th>\n",
       "      <td>36</td>\n",
       "      <td>Fully Paid</td>\n",
       "    </tr>\n",
       "    <tr>\n",
       "      <th>5</th>\n",
       "      <td>36</td>\n",
       "      <td>Fully Paid</td>\n",
       "    </tr>\n",
       "  </tbody>\n",
       "</table>\n",
       "</div>"
      ],
      "text/plain": [
       "  term  loan_status\n",
       "0   36   Fully Paid\n",
       "1   60  Charged Off\n",
       "2   36   Fully Paid\n",
       "3   36   Fully Paid\n",
       "5   36   Fully Paid"
      ]
     },
     "execution_count": 23,
     "metadata": {},
     "output_type": "execute_result"
    }
   ],
   "source": [
    "df4.head()"
   ]
  },
  {
   "cell_type": "code",
   "execution_count": 24,
   "id": "2030475f",
   "metadata": {},
   "outputs": [
    {
     "name": "stderr",
     "output_type": "stream",
     "text": [
      "C:\\Users\\damod\\AppData\\Local\\Temp/ipykernel_26216/340583599.py:1: SettingWithCopyWarning: \n",
      "A value is trying to be set on a copy of a slice from a DataFrame.\n",
      "Try using .loc[row_indexer,col_indexer] = value instead\n",
      "\n",
      "See the caveats in the documentation: https://pandas.pydata.org/pandas-docs/stable/user_guide/indexing.html#returning-a-view-versus-a-copy\n",
      "  df4['term']=df4['term'].astype('float')\n"
     ]
    }
   ],
   "source": [
    "df4['term']=df4['term'].astype('float')"
   ]
  },
  {
   "cell_type": "code",
   "execution_count": 25,
   "id": "c87c876c",
   "metadata": {},
   "outputs": [
    {
     "data": {
      "text/html": [
       "<div>\n",
       "<style scoped>\n",
       "    .dataframe tbody tr th:only-of-type {\n",
       "        vertical-align: middle;\n",
       "    }\n",
       "\n",
       "    .dataframe tbody tr th {\n",
       "        vertical-align: top;\n",
       "    }\n",
       "\n",
       "    .dataframe thead th {\n",
       "        text-align: right;\n",
       "    }\n",
       "</style>\n",
       "<table border=\"1\" class=\"dataframe\">\n",
       "  <thead>\n",
       "    <tr style=\"text-align: right;\">\n",
       "      <th></th>\n",
       "      <th>term</th>\n",
       "      <th>loan_status</th>\n",
       "    </tr>\n",
       "  </thead>\n",
       "  <tbody>\n",
       "    <tr>\n",
       "      <th>0</th>\n",
       "      <td>36.0</td>\n",
       "      <td>Fully Paid</td>\n",
       "    </tr>\n",
       "    <tr>\n",
       "      <th>1</th>\n",
       "      <td>60.0</td>\n",
       "      <td>Charged Off</td>\n",
       "    </tr>\n",
       "    <tr>\n",
       "      <th>2</th>\n",
       "      <td>36.0</td>\n",
       "      <td>Fully Paid</td>\n",
       "    </tr>\n",
       "    <tr>\n",
       "      <th>3</th>\n",
       "      <td>36.0</td>\n",
       "      <td>Fully Paid</td>\n",
       "    </tr>\n",
       "    <tr>\n",
       "      <th>5</th>\n",
       "      <td>36.0</td>\n",
       "      <td>Fully Paid</td>\n",
       "    </tr>\n",
       "  </tbody>\n",
       "</table>\n",
       "</div>"
      ],
      "text/plain": [
       "   term  loan_status\n",
       "0  36.0   Fully Paid\n",
       "1  60.0  Charged Off\n",
       "2  36.0   Fully Paid\n",
       "3  36.0   Fully Paid\n",
       "5  36.0   Fully Paid"
      ]
     },
     "execution_count": 25,
     "metadata": {},
     "output_type": "execute_result"
    }
   ],
   "source": [
    "df4.head()"
   ]
  },
  {
   "cell_type": "code",
   "execution_count": 27,
   "id": "cbb2a543",
   "metadata": {},
   "outputs": [
    {
     "data": {
      "text/plain": [
       "<AxesSubplot:title={'center':'term'}, xlabel='loan_status'>"
      ]
     },
     "execution_count": 27,
     "metadata": {},
     "output_type": "execute_result"
    },
    {
     "data": {
      "image/png": "[encoded data removed]",
      "text/plain": [
       "<Figure size 720x864 with 1 Axes>"
      ]
     },
     "metadata": {
      "needs_background": "light"
     },
     "output_type": "display_data"
    }
   ],
   "source": [
    "#box plot to analyze impact\n",
    "\n",
    "df4.boxplot(column='term',by='loan_status',figsize=(10,12))"
   ]
  },
  {
   "cell_type": "code",
   "execution_count": null,
   "id": "2a8dcfbb",
   "metadata": {},
   "outputs": [],
   "source": [
    "#box plot shows increase in term shows increase in loan default"
   ]
  },
  {
   "cell_type": "code",
   "execution_count": 187,
   "id": "c9fc6900",
   "metadata": {},
   "outputs": [
    {
     "data": {
      "text/plain": [
       "<AxesSubplot:title={'center':'term'}, xlabel='loan_status'>"
      ]
     },
     "execution_count": 187,
     "metadata": {},
     "output_type": "execute_result"
    }
   ],
   "source": [
    "#scatter plot\n",
    "df4.boxplot(column='term',by='loan_status')"
   ]
  },
  {
   "cell_type": "code",
   "execution_count": 162,
   "id": "5730a54f",
   "metadata": {},
   "outputs": [
    {
     "name": "stderr",
     "output_type": "stream",
     "text": [
      "C:\\Users\\damod\\AppData\\Local\\Temp/ipykernel_19592/3359162140.py:3: SettingWithCopyWarning: \n",
      "A value is trying to be set on a copy of a slice from a DataFrame.\n",
      "Try using .loc[row_indexer,col_indexer] = value instead\n",
      "\n",
      "See the caveats in the documentation: https://pandas.pydata.org/pandas-docs/stable/user_guide/indexing.html#returning-a-view-versus-a-copy\n",
      "  df5['annual_inc'] = df5['annual_inc'].astype('float')\n"
     ]
    }
   ],
   "source": [
    "\n",
    "# analyse annual income relation with loan default\n",
    "df5 = df[['annual_inc','loan_status']]\n",
    "df5['annual_inc'] = df5['annual_inc'].astype('float')"
   ]
  },
  {
   "cell_type": "code",
   "execution_count": 172,
   "id": "d63af828",
   "metadata": {},
   "outputs": [
    {
     "data": {
      "text/plain": [
       "<AxesSubplot:title={'center':'annual_inc'}, xlabel='loan_status'>"
      ]
     },
     "execution_count": 172,
     "metadata": {},
     "output_type": "execute_result"
    },
    {
     "data": {
      "image/png": "[encoded data removed]",
      "text/plain": [
       "<Figure size 1080x1440 with 1 Axes>"
      ]
     },
     "metadata": {
      "needs_background": "light"
     },
     "output_type": "display_data"
    }
   ],
   "source": [
    "df5.head()\n",
    "df5.boxplot(column='annual_inc', by='loan_status',figsize=(15,20))\n"
   ]
  },
  {
   "cell_type": "code",
   "execution_count": 173,
   "id": "66c87e7a",
   "metadata": {},
   "outputs": [],
   "source": [
    "# analyse dti to loan default\n",
    "df6 = df[['dti','loan_status']]"
   ]
  },
  {
   "cell_type": "code",
   "execution_count": 174,
   "id": "5a42cf9c",
   "metadata": {},
   "outputs": [
    {
     "data": {
      "text/html": [
       "<div>\n",
       "<style scoped>\n",
       "    .dataframe tbody tr th:only-of-type {\n",
       "        vertical-align: middle;\n",
       "    }\n",
       "\n",
       "    .dataframe tbody tr th {\n",
       "        vertical-align: top;\n",
       "    }\n",
       "\n",
       "    .dataframe thead th {\n",
       "        text-align: right;\n",
       "    }\n",
       "</style>\n",
       "<table border=\"1\" class=\"dataframe\">\n",
       "  <thead>\n",
       "    <tr style=\"text-align: right;\">\n",
       "      <th></th>\n",
       "      <th>dti</th>\n",
       "      <th>loan_status</th>\n",
       "    </tr>\n",
       "  </thead>\n",
       "  <tbody>\n",
       "    <tr>\n",
       "      <th>0</th>\n",
       "      <td>27.65</td>\n",
       "      <td>Fully Paid</td>\n",
       "    </tr>\n",
       "    <tr>\n",
       "      <th>1</th>\n",
       "      <td>1</td>\n",
       "      <td>Charged Off</td>\n",
       "    </tr>\n",
       "    <tr>\n",
       "      <th>2</th>\n",
       "      <td>8.72</td>\n",
       "      <td>Fully Paid</td>\n",
       "    </tr>\n",
       "    <tr>\n",
       "      <th>3</th>\n",
       "      <td>20</td>\n",
       "      <td>Fully Paid</td>\n",
       "    </tr>\n",
       "    <tr>\n",
       "      <th>5</th>\n",
       "      <td>11.2</td>\n",
       "      <td>Fully Paid</td>\n",
       "    </tr>\n",
       "  </tbody>\n",
       "</table>\n",
       "</div>"
      ],
      "text/plain": [
       "     dti  loan_status\n",
       "0  27.65   Fully Paid\n",
       "1      1  Charged Off\n",
       "2   8.72   Fully Paid\n",
       "3     20   Fully Paid\n",
       "5   11.2   Fully Paid"
      ]
     },
     "execution_count": 174,
     "metadata": {},
     "output_type": "execute_result"
    }
   ],
   "source": [
    "df6.head()"
   ]
  },
  {
   "cell_type": "code",
   "execution_count": 175,
   "id": "5e08e7bf",
   "metadata": {},
   "outputs": [
    {
     "name": "stderr",
     "output_type": "stream",
     "text": [
      "C:\\Users\\damod\\AppData\\Local\\Temp/ipykernel_19592/3140113569.py:2: SettingWithCopyWarning: \n",
      "A value is trying to be set on a copy of a slice from a DataFrame.\n",
      "Try using .loc[row_indexer,col_indexer] = value instead\n",
      "\n",
      "See the caveats in the documentation: https://pandas.pydata.org/pandas-docs/stable/user_guide/indexing.html#returning-a-view-versus-a-copy\n",
      "  df6['dti'] = df6['dti'].astype('float')\n"
     ]
    }
   ],
   "source": [
    "# convert dti column to float type\n",
    "df6['dti'] = df6['dti'].astype('float')"
   ]
  },
  {
   "cell_type": "code",
   "execution_count": 177,
   "id": "5d81e722",
   "metadata": {},
   "outputs": [
    {
     "data": {
      "text/plain": [
       "<AxesSubplot:title={'center':'dti'}, xlabel='loan_status'>"
      ]
     },
     "execution_count": 177,
     "metadata": {},
     "output_type": "execute_result"
    },
    {
     "data": {
      "image/png": "[encoded data removed]",
      "text/plain": [
       "<Figure size 864x1152 with 1 Axes>"
      ]
     },
     "metadata": {
      "needs_background": "light"
     },
     "output_type": "display_data"
    }
   ],
   "source": [
    "df6.boxplot(column='dti', by = 'loan_status',figsize=(12,16))"
   ]
  },
  {
   "cell_type": "code",
   "execution_count": null,
   "id": "095c9530",
   "metadata": {},
   "outputs": [],
   "source": [
    "# boxplot shows increase debt to income ration will increase the chance of loan default"
   ]
  }
 ],
 "metadata": {
  "kernelspec": {
   "display_name": "Python 3 (ipykernel)",
   "language": "python",
   "name": "python3"
  },
  "language_info": {
   "codemirror_mode": {
    "name": "ipython",
    "version": 3
   },
   "file_extension": ".py",
   "mimetype": "text/x-python",
   "name": "python",
   "nbconvert_exporter": "python",
   "pygments_lexer": "ipython3",
   "version": "3.9.7"
  }
 },
 "nbformat": 4,
 "nbformat_minor": 5
}
